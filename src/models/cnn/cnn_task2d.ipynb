{
 "cells": [
  {
   "cell_type": "markdown",
   "metadata": {},
   "source": [
    "## Task 2d\n",
    "### Load data\n",
    "Use the MNIST dataset and permutated MNIST dataset provided on ilias."
   ]
  },
  {
   "cell_type": "code",
   "execution_count": 5,
   "metadata": {},
   "outputs": [],
   "source": [
    "import torch\n",
    "from torchvision import datasets\n",
    "from torchvision import transforms\n",
    "\n",
    "PATH = \"../../../data\"\n",
    "batch_size = 4\n",
    "\n",
    "# MNIST\n",
    "training_data = datasets.ImageFolder(\n",
    "   root=PATH + \"/mnist-png-format/train\",\n",
    "   transform=transforms.Compose([transforms.Grayscale(), transforms.ToTensor()])\n",
    ")\n",
    "trainloader = torch.utils.data.DataLoader(training_data, batch_size=batch_size, shuffle=True, num_workers=2)\n",
    "\n",
    "test_data = datasets.ImageFolder(\n",
    "   root=PATH + \"/mnist-png-format/test\",\n",
    "   transform=transforms.Compose([transforms.Grayscale(), transforms.ToTensor()])\n",
    ")\n",
    "testloader = torch.utils.data.DataLoader(test_data, batch_size=batch_size, shuffle=False, num_workers=2)\n",
    "\n",
    "# permutated MNIST\n",
    "permutated_training_data = datasets.ImageFolder(\n",
    "   root=PATH + \"/mnist-png-format-permutated/train\",\n",
    "   transform=transforms.Compose([transforms.Grayscale(), transforms.ToTensor()])\n",
    ")\n",
    "permutated_trainloader = torch.utils.data.DataLoader(permutated_training_data, batch_size=batch_size, shuffle=True, num_workers=2)\n",
    "\n",
    "permutated_test_data = datasets.ImageFolder(\n",
    "   root=PATH + \"/mnist-png-format-permutated/test\",\n",
    "   transform=transforms.Compose([transforms.Grayscale(), transforms.ToTensor()])\n",
    ")\n",
    "permutated_testloader = torch.utils.data.DataLoader(permutated_test_data, batch_size=batch_size, shuffle=False, num_workers=2)"
   ]
  },
  {
   "cell_type": "markdown",
   "metadata": {},
   "source": [
    "Define helper function to train a CNN and compute accuracy on the test set."
   ]
  },
  {
   "cell_type": "code",
   "execution_count": 6,
   "metadata": {},
   "outputs": [],
   "source": [
    "from model_task2c import PR_CNN\n",
    "\n",
    "import torch.nn as nn\n",
    "import torch.optim as optim\n",
    "from torch.optim.lr_scheduler import ExponentialLR\n",
    "\n",
    "def get_accuracy(trainloader, testloader, num_epochs = 10):\n",
    "    net = PR_CNN()\n",
    "    criterion = nn.CrossEntropyLoss()\n",
    "    optimizer = optim.SGD(net.parameters(), lr=0.1, momentum=0.9)\n",
    "    scheduler = ExponentialLR(optimizer, gamma=0.5)\n",
    "\n",
    "    test_acc = []\n",
    "\n",
    "    for epoch in range(num_epochs):  # loop over the dataset multiple times\n",
    "        net.train()\n",
    "        for inputs, labels in trainloader:\n",
    "\n",
    "            # zero the parameter gradients\n",
    "            optimizer.zero_grad()\n",
    "\n",
    "            # forward + backward + optimize\n",
    "            outputs = net(inputs)\n",
    "            loss = criterion(outputs, labels)\n",
    "            loss.backward()\n",
    "            optimizer.step()\n",
    "\n",
    "        # test model on test data\n",
    "        net.eval()\n",
    "        running_accuracy = total = 0.0\n",
    "        with torch.no_grad():\n",
    "            for images, labels in testloader:\n",
    "                # calculate outputs by running images through the network\n",
    "                outputs = net(images)\n",
    "\n",
    "                # compute accuracy\n",
    "                _, predicted = torch.max(outputs.data, 1)\n",
    "                total += labels.size(0)\n",
    "                running_accuracy += (predicted == labels).sum().item()\n",
    "\n",
    "            # save the current training information\n",
    "            test_acc.append(running_accuracy / total)\n",
    "            print(f\"Test {epoch + 1} accuracy: {running_accuracy / total:.3f}\")\n",
    "\n",
    "        # adjust the learning rate\n",
    "        scheduler.step()\n",
    "\n",
    "    return test_acc"
   ]
  },
  {
   "cell_type": "markdown",
   "metadata": {},
   "source": [
    "Compute accuracy for both set."
   ]
  },
  {
   "cell_type": "code",
   "execution_count": 8,
   "metadata": {},
   "outputs": [
    {
     "name": "stdout",
     "output_type": "stream",
     "text": [
      "---------------------MNIST---------------------\n",
      "Test 1 accuracy: 0.915\n",
      "Test 2 accuracy: 0.928\n",
      "Test 3 accuracy: 0.948\n",
      "Test 4 accuracy: 0.967\n",
      "Test 5 accuracy: 0.969\n",
      "Test 6 accuracy: 0.974\n",
      "Test 7 accuracy: 0.974\n",
      "Test 8 accuracy: 0.975\n",
      "Test 9 accuracy: 0.976\n",
      "Test 10 accuracy: 0.975\n",
      "Test 11 accuracy: 0.975\n",
      "Test 12 accuracy: 0.975\n",
      "Test 13 accuracy: 0.975\n",
      "Test 14 accuracy: 0.975\n",
      "Test 15 accuracy: 0.975\n",
      "---------------Permutated MNIST---------------\n",
      "Test 1 accuracy: 0.889\n",
      "Test 2 accuracy: 0.913\n",
      "Test 3 accuracy: 0.930\n",
      "Test 4 accuracy: 0.934\n",
      "Test 5 accuracy: 0.937\n",
      "Test 6 accuracy: 0.940\n",
      "Test 7 accuracy: 0.940\n",
      "Test 8 accuracy: 0.940\n",
      "Test 9 accuracy: 0.941\n",
      "Test 10 accuracy: 0.940\n",
      "Test 11 accuracy: 0.940\n",
      "Test 12 accuracy: 0.940\n",
      "Test 13 accuracy: 0.940\n",
      "Test 14 accuracy: 0.940\n",
      "Test 15 accuracy: 0.940\n"
     ]
    }
   ],
   "source": [
    "num_epochs = 15\n",
    "print(\"---------------------MNIST---------------------\")\n",
    "test_acc = get_accuracy(trainloader, testloader, num_epochs = num_epochs)\n",
    "\n",
    "print(\"---------------Permutated MNIST---------------\")\n",
    "permutated_test_acc = get_accuracy(permutated_trainloader, permutated_testloader, num_epochs = num_epochs)"
   ]
  },
  {
   "cell_type": "markdown",
   "metadata": {},
   "source": [
    "Plot graph showing the evolution of the accuracy with epoch."
   ]
  },
  {
   "cell_type": "code",
   "execution_count": 13,
   "metadata": {},
   "outputs": [
    {
     "data": {
      "image/png": "[encoded data removed]",
      "text/plain": [
       "<Figure size 432x288 with 1 Axes>"
      ]
     },
     "metadata": {
      "needs_background": "light"
     },
     "output_type": "display_data"
    }
   ],
   "source": [
    "import matplotlib.pyplot as plt\n",
    "\n",
    "# plotting\n",
    "plt.title(\"Learning Curve\")\n",
    "plt.plot(range(num_epochs), test_acc, label=\"MNIST\")\n",
    "plt.plot(range(num_epochs), permutated_test_acc, label=\"Permutated MNIST\")\n",
    "plt.xlabel(\"Epoch\")\n",
    "plt.ylabel(\"Accuracy\")\n",
    "plt.legend(loc='best')\n",
    "plt.show()"
   ]
  },
  {
   "cell_type": "markdown",
   "metadata": {},
   "source": [
    "### Analysis of the results\n",
    "\n",
    "We can see that the learning curve for the permutated dataset has a consistently lower performance. CNN exploit the spacial relationship between pixels with the convolution kernels. However the accuracy shows that the prediction is far from random because the separation between classes still remains."
   ]
  }
 ],
 "metadata": {
  "interpreter": {
   "hash": "e9f85064db445b62d7376b8e10d63328dd051dddbb402efa2ffdb5cce0ff7aa6"
  },
  "kernelspec": {
   "display_name": "Python 3.10.2 64-bit ('3.10.2')",
   "language": "python",
   "name": "python3"
  },
  "language_info": {
   "codemirror_mode": {
    "name": "ipython",
    "version": 3
   },
   "file_extension": ".py",
   "mimetype": "text/x-python",
   "name": "python",
   "nbconvert_exporter": "python",
   "pygments_lexer": "ipython3",
   "version": "3.10.2"
  },
  "orig_nbformat": 4
 },
 "nbformat": 4,
 "nbformat_minor": 2
}
