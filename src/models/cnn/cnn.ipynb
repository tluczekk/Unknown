{
 "cells": [
  {
   "cell_type": "markdown",
   "metadata": {},
   "source": [
    "## Task 2c\n",
    "To do this exercise I looked at these two sites:\n",
    "\n",
    "- https://www.cs.toronto.edu/~lczhang/321/tut/tut06.html\n",
    "- https://pytorch.org/tutorials/beginner/blitz/cifar10_tutorial.html\n",
    "\n",
    "### Load data\n",
    "Use the MNIST dataset provided by torchvision."
   ]
  },
  {
   "cell_type": "code",
   "execution_count": 1,
   "metadata": {},
   "outputs": [],
   "source": [
    "import torch\n",
    "import torchvision\n",
    "from torchvision import datasets\n",
    "from torchvision.transforms import ToTensor\n",
    "\n",
    "batch_size = 4\n",
    "\n",
    "training_data = datasets.MNIST(\n",
    "    root=\"data\",\n",
    "    train=True,\n",
    "    download=True,\n",
    "    transform=ToTensor()\n",
    ")\n",
    "trainloader = torch.utils.data.DataLoader(training_data, batch_size=batch_size, shuffle=True, num_workers=2)\n",
    "\n",
    "test_data = datasets.MNIST(\n",
    "    root=\"data\",\n",
    "    train=False,\n",
    "    download=True,\n",
    "    transform=ToTensor()\n",
    ")\n",
    "testloader = torch.utils.data.DataLoader(test_data, batch_size=batch_size, shuffle=False, num_workers=2)\n",
    "\n",
    "classes = ('0', '1', '2', '3', '4', '5', '6', '7', '8', '9')"
   ]
  },
  {
   "cell_type": "markdown",
   "metadata": {},
   "source": [
    "### Train the network\n",
    "\n",
    "Loop over the data and feed the inputs to the network and optimize. Accuracy and loss is compute for each epoch on training set and test set.\n",
    "\n",
    "#### Optimize learning rate\n",
    "Pytorch provides several methods to adjust learning rate based on the number of epochs. In this case, I use exponentialLR which decays the learning rate of each parameter group by gamma every epoch."
   ]
  },
  {
   "cell_type": "code",
   "execution_count": 9,
   "metadata": {},
   "outputs": [
    {
     "name": "stdout",
     "output_type": "stream",
     "text": [
      "Train 1 - Loss: 0.434 Accuracy: 0.870\n",
      "Test  1 - Loss: 0.326 Accuracy: 0.906\n",
      "Train 2 - Loss: 0.290 Accuracy: 0.917\n",
      "Test  2 - Loss: 0.228 Accuracy: 0.933\n",
      "Train 3 - Loss: 0.181 Accuracy: 0.947\n",
      "Test  3 - Loss: 0.159 Accuracy: 0.953\n",
      "Train 4 - Loss: 0.119 Accuracy: 0.965\n",
      "Test  4 - Loss: 0.116 Accuracy: 0.966\n",
      "Train 5 - Loss: 0.092 Accuracy: 0.972\n",
      "Test  5 - Loss: 0.113 Accuracy: 0.968\n",
      "Train 6 - Loss: 0.079 Accuracy: 0.977\n",
      "Test  6 - Loss: 0.104 Accuracy: 0.972\n",
      "Train 7 - Loss: 0.072 Accuracy: 0.978\n",
      "Test  7 - Loss: 0.101 Accuracy: 0.971\n",
      "Train 8 - Loss: 0.068 Accuracy: 0.980\n",
      "Test  8 - Loss: 0.100 Accuracy: 0.972\n",
      "Train 9 - Loss: 0.066 Accuracy: 0.980\n",
      "Test  9 - Loss: 0.101 Accuracy: 0.971\n",
      "Train 10 - Loss: 0.065 Accuracy: 0.981\n",
      "Test  10 - Loss: 0.100 Accuracy: 0.971\n"
     ]
    }
   ],
   "source": [
    "from model_task2c import PR_CNN\n",
    "\n",
    "import torch.nn as nn\n",
    "import torch.optim as optim\n",
    "from torch.optim.lr_scheduler import ExponentialLR\n",
    "\n",
    "net = PR_CNN()\n",
    "criterion = nn.CrossEntropyLoss()\n",
    "optimizer = optim.SGD(net.parameters(), lr=0.1, momentum=0.9)\n",
    "scheduler = ExponentialLR(optimizer, gamma=0.5)\n",
    "\n",
    "num_epochs = 10\n",
    "train_losses, test_losses, train_acc, test_acc = [], [], [], []\n",
    "\n",
    "for epoch in range(num_epochs):  # loop over the dataset multiple times\n",
    "    net.train()\n",
    "    running_loss = running_accuracy = total = 0.0\n",
    "\n",
    "    for i, data in enumerate(trainloader, 0):\n",
    "        # get the inputs; data is a list of [inputs, labels]\n",
    "        inputs, labels = data\n",
    "\n",
    "        # zero the parameter gradients\n",
    "        optimizer.zero_grad()\n",
    "\n",
    "        # forward + backward + optimize\n",
    "        outputs = net(inputs)\n",
    "        loss = criterion(outputs, labels)\n",
    "        loss.backward()\n",
    "        optimizer.step()\n",
    "\n",
    "        # compute loss and accuracy\n",
    "        running_loss += loss.item()\n",
    "        _, predicted = torch.max(outputs.data, 1)\n",
    "        total += labels.size(0)\n",
    "        running_accuracy += (predicted == labels).sum().item()\n",
    "\n",
    "    # save the current training information\n",
    "    train_losses.append(running_loss / len(trainloader))\n",
    "    train_acc.append(running_accuracy / total)\n",
    "    print(f\"Train {epoch + 1} - Loss: {running_loss / len(trainloader):.3f} Accuracy: {running_accuracy / total:.3f}\")\n",
    "\n",
    "    # test model on test data\n",
    "    net.train()\n",
    "    running_loss = running_accuracy = total = 0.0\n",
    "\n",
    "    with torch.no_grad():\n",
    "        for data in testloader:\n",
    "            images, labels = data\n",
    "\n",
    "            # calculate outputs by running images through the network\n",
    "            outputs = net(images)\n",
    "\n",
    "            # compute loss and accuracy\n",
    "            loss = criterion(outputs, labels)\n",
    "            running_loss += loss.item()\n",
    "            _, predicted = torch.max(outputs.data, 1)\n",
    "            total += labels.size(0)\n",
    "            running_accuracy += (predicted == labels).sum().item()\n",
    "\n",
    "        # save the current training information\n",
    "        test_losses.append(running_loss / len(testloader))\n",
    "        test_acc.append(running_accuracy / total)\n",
    "        print(f\"Test  {epoch + 1} - Loss: {running_loss / len(testloader):.3f} Accuracy: {running_accuracy / total:.3f}\")\n",
    "\n",
    "    # adjust the learning rate\n",
    "    scheduler.step()"
   ]
  },
  {
   "cell_type": "markdown",
   "metadata": {},
   "source": [
    "#### Graph\n",
    "Plot a graph showing the accuracy and loss on the training set and the test set."
   ]
  },
  {
   "cell_type": "code",
   "execution_count": 13,
   "metadata": {},
   "outputs": [
    {
     "data": {
      "image/png": "[encoded data removed]",
      "text/plain": [
       "<Figure size 432x288 with 1 Axes>"
      ]
     },
     "metadata": {
      "needs_background": "light"
     },
     "output_type": "display_data"
    },
    {
     "data": {
      "image/png": "[encoded data removed]",
      "text/plain": [
       "<Figure size 432x288 with 1 Axes>"
      ]
     },
     "metadata": {
      "needs_background": "light"
     },
     "output_type": "display_data"
    }
   ],
   "source": [
    "import matplotlib.pyplot as plt\n",
    "\n",
    "# plotting\n",
    "plt.title(\"Learning Curve\")\n",
    "plt.plot(range(num_epochs), train_losses, label=\"Train\")\n",
    "plt.plot(range(num_epochs), test_losses, label=\"Test\")\n",
    "plt.xlabel(\"Epoch\")\n",
    "plt.ylabel(\"Loss\")\n",
    "plt.legend(loc='best')\n",
    "plt.show()\n",
    "\n",
    "plt.title(\"Learning Curve\")\n",
    "plt.plot(range(num_epochs), train_acc, label=\"Train\")\n",
    "plt.plot(range(num_epochs), test_acc, label=\"Test\")\n",
    "plt.xlabel(\"Epoch\")\n",
    "plt.ylabel(\"Accuracy\")\n",
    "plt.legend(loc='best')\n",
    "plt.show()"
   ]
  },
  {
   "cell_type": "markdown",
   "metadata": {},
   "source": [
    "### Best of 5 \n",
    "Perform the random initialization 5 times and save the best network based on the lowest loss value. According to PyTorch, deterministic operations are often slower than nondeterministic. Thus nothing is done here to limit the sources of randomness."
   ]
  },
  {
   "cell_type": "code",
   "execution_count": 34,
   "metadata": {},
   "outputs": [
    {
     "name": "stdout",
     "output_type": "stream",
     "text": [
      "1 Loss: 0.09183126728979116\n",
      "2 Loss: 0.07217693782344474\n",
      "3 Loss: 0.06971510876387313\n",
      "4 Loss: 0.06781262266746359\n",
      "5 Loss: 0.0672595200346859\n"
     ]
    }
   ],
   "source": [
    "def get_trained_cnn(num_epochs = 10):\n",
    "    net = PR_CNN()\n",
    "    criterion = nn.CrossEntropyLoss()\n",
    "    optimizer = optim.SGD(net.parameters(), lr=0.1, momentum=0.9)\n",
    "    scheduler = ExponentialLR(optimizer, gamma=0.5)\n",
    "\n",
    "    train_losses = []\n",
    "\n",
    "    for epoch in range(num_epochs):  # loop over the dataset multiple times\n",
    "        net.train()\n",
    "        running_loss = 0.0\n",
    "\n",
    "        for i, data in enumerate(trainloader, 0):\n",
    "            # get the inputs; data is a list of [inputs, labels]\n",
    "            inputs, labels = data\n",
    "\n",
    "            # zero the parameter gradients\n",
    "            optimizer.zero_grad()\n",
    "\n",
    "            # forward + backward + optimize\n",
    "            outputs = net(inputs)\n",
    "            loss = criterion(outputs, labels)\n",
    "            loss.backward()\n",
    "            optimizer.step()\n",
    "\n",
    "            # compute loss and accuracy\n",
    "            running_loss += loss.item()\n",
    "            \n",
    "        train_losses.append(running_loss / len(trainloader))\n",
    "\n",
    "        # adjust the learning rate\n",
    "        scheduler.step()\n",
    "    \n",
    "    return net, train_losses\n",
    "\n",
    "\n",
    "best_net = best_loss = None\n",
    "for i in range(5):\n",
    "    net, losses = get_trained_cnn(8)\n",
    "    loss = losses[-1]\n",
    "    print(f\"{i + 1} Loss: {loss}\")\n",
    "    if not best_loss or loss < best_loss:\n",
    "        best_net = net\n",
    "        best_loss = loss\n",
    "\n",
    "PATH = './net.pth'\n",
    "torch.save(best_net.state_dict(), PATH)"
   ]
  },
  {
   "cell_type": "markdown",
   "metadata": {},
   "source": [
    "Test accuracy with the best net found."
   ]
  },
  {
   "cell_type": "code",
   "execution_count": 38,
   "metadata": {},
   "outputs": [
    {
     "name": "stdout",
     "output_type": "stream",
     "text": [
      "Accuracy of the network on the 10000 test images: 97 %\n"
     ]
    }
   ],
   "source": [
    "net = PR_CNN()\n",
    "net.load_state_dict(torch.load(PATH))\n",
    "\n",
    "correct = 0\n",
    "total = 0\n",
    "# since we're not training, we don't need to calculate the gradients for our outputs\n",
    "with torch.no_grad():\n",
    "    for data in testloader:\n",
    "        images, labels = data\n",
    "        # calculate outputs by running images through the network\n",
    "        outputs = net(images)\n",
    "        # the class with the highest energy is what we choose as prediction\n",
    "        _, predicted = torch.max(outputs.data, 1)\n",
    "        total += labels.size(0)\n",
    "        correct += (predicted == labels).sum().item()\n",
    "\n",
    "print(f'Accuracy of the network on the {len(test_data)} test images: {100 * correct // total} %')"
   ]
  }
 ],
 "metadata": {
  "interpreter": {
   "hash": "e9f85064db445b62d7376b8e10d63328dd051dddbb402efa2ffdb5cce0ff7aa6"
  },
  "kernelspec": {
   "display_name": "Python 3.10.2 64-bit ('3.10.2')",
   "language": "python",
   "name": "python3"
  },
  "language_info": {
   "codemirror_mode": {
    "name": "ipython",
    "version": 3
   },
   "file_extension": ".py",
   "mimetype": "text/x-python",
   "name": "python",
   "nbconvert_exporter": "python",
   "pygments_lexer": "ipython3",
   "version": "3.9.7"
  },
  "orig_nbformat": 4
 },
 "nbformat": 4,
 "nbformat_minor": 2
}
