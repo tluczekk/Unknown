{
 "cells": [
  {
   "cell_type": "code",
   "execution_count": 1,
   "metadata": {},
   "outputs": [],
   "source": [
    "from sklearn import neural_network\n",
    "from sklearn.metrics import accuracy_score\n",
    "import numpy as np\n",
    "from sklearn.model_selection import cross_validate\n",
    "from matplotlib import pyplot as plt"
   ]
  },
  {
   "cell_type": "markdown",
   "metadata": {},
   "source": [
    "## Loading data"
   ]
  },
  {
   "cell_type": "code",
   "execution_count": 2,
   "metadata": {},
   "outputs": [],
   "source": [
    "with open('../../../data/mnist-csv-format/mnist_train.csv') as tr:\n",
    "    training = np.loadtxt(tr, delimiter=',', dtype=int)\n",
    "    training_samples = training[:, 1:]\n",
    "    training_labels = training[:, 0]"
   ]
  },
  {
   "cell_type": "code",
   "execution_count": 3,
   "metadata": {},
   "outputs": [],
   "source": [
    "with open('../../../data/mnist-csv-format/mnist_test.csv') as ts:\n",
    "    tests = np.loadtxt(ts, delimiter=',', dtype=int)\n",
    "    test_samples = tests[:, 1:]\n",
    "    test_labels = tests[:, 0]"
   ]
  },
  {
   "cell_type": "markdown",
   "metadata": {},
   "source": [
    "## Optimizing number of neurons in a single hidden layer\n",
    "\n",
    "Trying out values from 1 to 100, taking into account every multiple of 10"
   ]
  },
  {
   "cell_type": "code",
   "execution_count": 4,
   "metadata": {},
   "outputs": [
    {
     "name": "stderr",
     "output_type": "stream",
     "text": [
      "C:\\Users\\tlucz\\AppData\\Local\\Packages\\PythonSoftwareFoundation.Python.3.9_qbz5n2kfra8p0\\LocalCache\\local-packages\\Python39\\site-packages\\sklearn\\neural_network\\_multilayer_perceptron.py:692: ConvergenceWarning: Stochastic Optimizer: Maximum iterations (200) reached and the optimization hasn't converged yet.\n",
      "  warnings.warn(\n"
     ]
    },
    {
     "name": "stdout",
     "output_type": "stream",
     "text": [
      "OPTIMIZED NEURONS: 100\n",
      "[0.1134, 0.8529, 0.9313, 0.9403, 0.9413, 0.9548, 0.9522, 0.9605, 0.9613, 0.9629, 0.9639]\n"
     ]
    }
   ],
   "source": [
    "neurons_scores = []\n",
    "for i in range(0,101, 10):\n",
    "    if i == 0:\n",
    "        j = 1\n",
    "    else:\n",
    "        j = i\n",
    "    mlp = neural_network.MLPClassifier(\n",
    "        hidden_layer_sizes=(j,),\n",
    "    )\n",
    "    mlp.fit(training_samples, training_labels)\n",
    "    neurons_scores.append(accuracy_score(test_labels, mlp.predict(test_samples)))\n",
    "\n",
    "neurons_optimized = np.argmax(np.array(neurons_scores)) * 10\n",
    "if neurons_optimized == 0: neurons_optimized = 1\n",
    "\n",
    "print(f\"OPTIMIZED NEURONS: {neurons_optimized}\" )\n",
    "print(neurons_scores)"
   ]
  },
  {
   "cell_type": "markdown",
   "metadata": {},
   "source": [
    "In case of MNIST dataset accuracy grows as we put in more neurons - 100 neuron single layer MLP produces satisfactory results, while scoring test partition "
   ]
  },
  {
   "cell_type": "markdown",
   "metadata": {},
   "source": [
    "## Optimizing learning rate\n",
    "\n",
    "Another parameter to optimize is the initial learning rate, which according to task description typically takes values from 0.001 to 0.1."
   ]
  },
  {
   "cell_type": "code",
   "execution_count": 5,
   "metadata": {},
   "outputs": [
    {
     "name": "stdout",
     "output_type": "stream",
     "text": [
      "Optimal LR: 0.001\n",
      "[0.9652, 0.5083, 0.0976, 0.1181, 0.1153, 0.1023, 0.1139, 0.1035, 0.101, 0.0958]\n"
     ]
    }
   ],
   "source": [
    "rates_scores = []\n",
    "learning_rates = np.linspace(0.001,0.1,10)\n",
    "for rate in learning_rates:\n",
    "    mlp = neural_network.MLPClassifier(\n",
    "        hidden_layer_sizes=(100,),\n",
    "        learning_rate_init=rate,\n",
    "    )\n",
    "    mlp.fit(training_samples, training_labels)\n",
    "    rates_scores.append(accuracy_score(test_labels, mlp.predict(test_samples)))\n",
    "\n",
    "optimal_learning_rate = learning_rates[np.argmax(rates_scores)]\n",
    "print(f\"Optimal LR: {optimal_learning_rate}\")\n",
    "print(rates_scores)"
   ]
  },
  {
   "cell_type": "markdown",
   "metadata": {},
   "source": [
    "Accuracy falls rapidly the greater learning rate is. Therefore we'll stick with 0.001"
   ]
  },
  {
   "cell_type": "markdown",
   "metadata": {},
   "source": [
    "## Optimizing max iterations\n",
    "\n",
    "Sklearn framework provides built-in feature to perform epoch optimization. We set *max_iter* to an arbitrary large number to bypass default limit of 200 epochs. By setting *early_stopping* property to True, 10% of training values are set aside for validation, and convergence is achieved whenever validation score doesn't improve by more than *tol* for *n_iter_no_change* consecutive epochs:"
   ]
  },
  {
   "cell_type": "code",
   "execution_count": 27,
   "metadata": {},
   "outputs": [
    {
     "data": {
      "text/plain": [
       "MLPClassifier(early_stopping=True, max_iter=5000)"
      ]
     },
     "execution_count": 27,
     "metadata": {},
     "output_type": "execute_result"
    }
   ],
   "source": [
    "mlp = neural_network.MLPClassifier(\n",
    "    hidden_layer_sizes=(100,),\n",
    "    learning_rate_init=0.001,\n",
    "    max_iter=5000,\n",
    "    early_stopping=True,\n",
    "    validation_fraction=0.1,\n",
    "    tol=1e-4,\n",
    "    n_iter_no_change=10,\n",
    ")\n",
    "mlp.fit(training_samples, training_labels)\n"
   ]
  },
  {
   "cell_type": "code",
   "execution_count": 32,
   "metadata": {},
   "outputs": [
    {
     "data": {
      "image/png": "[encoded data removed]",
      "text/plain": [
       "<Figure size 432x288 with 1 Axes>"
      ]
     },
     "metadata": {
      "needs_background": "light"
     },
     "output_type": "display_data"
    }
   ],
   "source": [
    "plt.plot(mlp.loss_curve_)\n",
    "plt.xlabel(\"Training epoch\")\n",
    "plt.ylabel(\"Log loss\")\n",
    "plt.savefig(\"mlp_loss.png\")\n",
    "plt.show()"
   ]
  },
  {
   "cell_type": "code",
   "execution_count": 33,
   "metadata": {},
   "outputs": [
    {
     "data": {
      "image/png": "[encoded data removed]",
      "text/plain": [
       "<Figure size 432x288 with 1 Axes>"
      ]
     },
     "metadata": {
      "needs_background": "light"
     },
     "output_type": "display_data"
    }
   ],
   "source": [
    "plt.plot(mlp.validation_scores_)\n",
    "plt.xlabel(\"Epochs\")\n",
    "plt.ylabel(\"Validation Score\")\n",
    "plt.savefig(\"mlp_valscore.png\")\n",
    "plt.show()"
   ]
  },
  {
   "cell_type": "markdown",
   "metadata": {},
   "source": [
    "## Random State initialization and choosing the best model \n",
    "\n",
    "Checking model's performace for 5 random states, getting the best estimator for each using cross validation and scoring it with test data:"
   ]
  },
  {
   "cell_type": "code",
   "execution_count": 36,
   "metadata": {},
   "outputs": [
    {
     "name": "stdout",
     "output_type": "stream",
     "text": [
      "Optimal random state: 0\n"
     ]
    }
   ],
   "source": [
    "test_scores = []\n",
    "for i in range(5):\n",
    "    mlp = neural_network.MLPClassifier(\n",
    "        hidden_layer_sizes=(100,),\n",
    "        learning_rate_init=0.001,\n",
    "        max_iter=5000,\n",
    "        early_stopping=True,\n",
    "        validation_fraction=0.1,\n",
    "        tol=1e-4,\n",
    "        n_iter_no_change=10,\n",
    "        random_state=i,\n",
    "    )\n",
    "    cv_results = cross_validate(\n",
    "        mlp, \n",
    "        training_samples, \n",
    "        training_labels,\n",
    "        scoring=\"accuracy\",\n",
    "        return_estimator=True\n",
    "    )\n",
    "    estimator_to_return = np.argmax(cv_results['test_score'])\n",
    "    estimator = cv_results['estimator'][estimator_to_return]\n",
    "    test_scores.append(accuracy_score(test_labels, estimator.predict(test_samples)))\n",
    "\n",
    "print(f\"Optimal random state: {np.argmax(test_scores)}\")"
   ]
  },
  {
   "cell_type": "code",
   "execution_count": 37,
   "metadata": {},
   "outputs": [
    {
     "name": "stdout",
     "output_type": "stream",
     "text": [
      "Maximal accuracy on test set: 0.9652\n"
     ]
    }
   ],
   "source": [
    "print(f\"Maximal accuracy on test set: {test_scores[0]}\")"
   ]
  },
  {
   "cell_type": "markdown",
   "metadata": {},
   "source": [
    "Optimized parameters for MLP while training on MNIST dataset are as follows:\n",
    "\n",
    "| Parameter | Value |\n",
    "| --------- | ----- |\n",
    "| No. of neurons | 100 |\n",
    "| Learning rate | 0.001 |\n",
    "| Max iterations | Early stopping |\n",
    "| Random state | 0 |\n",
    "\n",
    "Maximal accuracy achieved was equal to 96,52%"
   ]
  }
 ],
 "metadata": {
  "interpreter": {
   "hash": "5fe1301931ef1413951f596320f4d169cf008d94d6bc5734c218723b8b1ba0c4"
  },
  "kernelspec": {
   "display_name": "Python 3.9.12 64-bit (windows store)",
   "language": "python",
   "name": "python3"
  },
  "language_info": {
   "codemirror_mode": {
    "name": "ipython",
    "version": 3
   },
   "file_extension": ".py",
   "mimetype": "text/x-python",
   "name": "python",
   "nbconvert_exporter": "python",
   "pygments_lexer": "ipython3",
   "version": "3.9.12"
  },
  "orig_nbformat": 4
 },
 "nbformat": 4,
 "nbformat_minor": 2
}
