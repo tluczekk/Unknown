{
 "cells": [
  {
   "cell_type": "markdown",
   "metadata": {},
   "source": [
    "# Task 2d - MLP"
   ]
  },
  {
   "cell_type": "markdown",
   "metadata": {},
   "source": [
    "Objective of this task is to test the Multi Layer Perceptron classifier optimized in task 2b to check how it performs with MNIST-permutated dataset retreived from ILIAS, which has been permutated in an unknown manner."
   ]
  },
  {
   "cell_type": "markdown",
   "metadata": {},
   "source": [
    "## Loading the data"
   ]
  },
  {
   "cell_type": "code",
   "execution_count": 7,
   "metadata": {},
   "outputs": [],
   "source": [
    "import glob\n",
    "import imageio\n",
    "import os\n",
    "import numpy as np\n",
    "from PIL import Image\n",
    "\n",
    "training_perm = []\n",
    "training_perm_labels = []\n",
    "testing_perm = []\n",
    "testing_perm_labels = []"
   ]
  },
  {
   "cell_type": "markdown",
   "metadata": {},
   "source": [
    "First, converting MNIST-permutated dataset into flat numpy arrays:"
   ]
  },
  {
   "cell_type": "code",
   "execution_count": 8,
   "metadata": {},
   "outputs": [],
   "source": [
    "# Loading training data for permutated set\n",
    "for root, dirs, files in os.walk(\"../../../data/mnist-png-format-permutated/train\"):\n",
    "    for file in files:\n",
    "        if file.endswith(\".png\"):\n",
    "            # Retrieving label\n",
    "            training_perm_labels.append(file[0])\n",
    "            # Converting image to numpy array\n",
    "            tmp_img = np.array(Image.open(os.path.join(root,file))).flatten()\n",
    "            training_perm.append(tmp_img)"
   ]
  },
  {
   "cell_type": "code",
   "execution_count": 9,
   "metadata": {},
   "outputs": [],
   "source": [
    "# Loading test data for permutated set\n",
    "for root, dirs, files in os.walk(\"../../../data/mnist-png-format-permutated/test\"):\n",
    "    for file in files:\n",
    "        if file.endswith(\".png\"):\n",
    "            # Retrieving label\n",
    "            testing_perm_labels.append(file[0])\n",
    "            # Converting image to numpy array\n",
    "            tmp_img = np.array(Image.open(os.path.join(root,file))).flatten()\n",
    "            testing_perm.append(tmp_img)"
   ]
  },
  {
   "cell_type": "code",
   "execution_count": 10,
   "metadata": {},
   "outputs": [],
   "source": [
    "# Converting to numpy \n",
    "training_perm = np.array(training_perm)\n",
    "training_perm_labels = np.array(training_perm_labels)\n",
    "testing_perm = np.array(testing_perm)\n",
    "testing_perm_labels = np.array(testing_perm_labels)"
   ]
  },
  {
   "cell_type": "markdown",
   "metadata": {},
   "source": [
    "Loading regular MNIST set"
   ]
  },
  {
   "cell_type": "code",
   "execution_count": 11,
   "metadata": {},
   "outputs": [],
   "source": [
    "# Loading MNIST training set\n",
    "with open('../../../data/mnist-csv-format/mnist_train.csv') as tr:\n",
    "    training = np.loadtxt(tr, delimiter=',', dtype=int)\n",
    "    training_samples = training[:, 1:]\n",
    "    training_labels = training[:, 0]"
   ]
  },
  {
   "cell_type": "code",
   "execution_count": 12,
   "metadata": {},
   "outputs": [],
   "source": [
    "# Loading MNIST test set\n",
    "with open('../../../data/mnist-csv-format/mnist_test.csv') as ts:\n",
    "    tests = np.loadtxt(ts, delimiter=',', dtype=int)\n",
    "    test_samples = tests[:, 1:]\n",
    "    test_labels = tests[:, 0]"
   ]
  },
  {
   "cell_type": "markdown",
   "metadata": {},
   "source": [
    "## Getting MLP estimator"
   ]
  },
  {
   "cell_type": "markdown",
   "metadata": {},
   "source": [
    "Retrieving two MLP estimators, trained on both datasets"
   ]
  },
  {
   "cell_type": "code",
   "execution_count": 13,
   "metadata": {},
   "outputs": [],
   "source": [
    "from MLP import MLP\n",
    "mlp = MLP()\n",
    "\n",
    "estimator = mlp.get_estimator(training_samples, training_labels)"
   ]
  },
  {
   "cell_type": "code",
   "execution_count": 16,
   "metadata": {},
   "outputs": [],
   "source": [
    "estimator_perm = mlp.get_estimator(training_perm, training_perm_labels)"
   ]
  },
  {
   "cell_type": "markdown",
   "metadata": {},
   "source": [
    "Plotting the accuracy curves:"
   ]
  },
  {
   "cell_type": "code",
   "execution_count": 17,
   "metadata": {},
   "outputs": [
    {
     "data": {
      "image/png": "[encoded data removed]",
      "text/plain": [
       "<Figure size 432x288 with 1 Axes>"
      ]
     },
     "metadata": {
      "needs_background": "light"
     },
     "output_type": "display_data"
    }
   ],
   "source": [
    "import matplotlib.pyplot as plt\n",
    "\n",
    "plt.plot(estimator.validation_scores_)\n",
    "plt.plot(estimator_perm.validation_scores_)\n",
    "plt.legend([\"MNIST\", \"Permutated\"])\n",
    "plt.xlabel(\"Training epoch\")\n",
    "plt.ylabel(\"Validation Score\")\n",
    "plt.savefig(\"mlp_taskd.png\")\n",
    "plt.show()"
   ]
  },
  {
   "cell_type": "markdown",
   "metadata": {},
   "source": [
    "Although consistently less accurate, MLP trained on permutated data performs similarly to its original counterpart - differences in accuracy are however negligible, and training for permutated dataset stopped a little bit earlier."
   ]
  },
  {
   "cell_type": "code",
   "execution_count": 19,
   "metadata": {},
   "outputs": [
    {
     "name": "stdout",
     "output_type": "stream",
     "text": [
      "Accuracy on MNIST:\t\t0.9652\n",
      "Accuracy on MNIST-permutated:\t0.9633\n"
     ]
    }
   ],
   "source": [
    "from sklearn.metrics import accuracy_score\n",
    "print(f\"Accuracy on MNIST:\\t\\t{accuracy_score(test_labels, estimator.predict(test_samples))}\")\n",
    "print(f\"Accuracy on MNIST-permutated:\\t{accuracy_score(testing_perm_labels, estimator_perm.predict(testing_perm))}\")"
   ]
  },
  {
   "cell_type": "markdown",
   "metadata": {},
   "source": [
    "Difference in accuracies is minimal, with a slight advantage of an estimator trained on regular MNIST.  Since MLP doesn't convolve on the image, dealing with flatten vectors, it makes sense that performance doesn't deteriorate - given that the permutation is consistent, MLP adapts to this and produces similar results."
   ]
  }
 ],
 "metadata": {
  "interpreter": {
   "hash": "5fe1301931ef1413951f596320f4d169cf008d94d6bc5734c218723b8b1ba0c4"
  },
  "kernelspec": {
   "display_name": "Python 3.9.12 64-bit (windows store)",
   "language": "python",
   "name": "python3"
  },
  "language_info": {
   "codemirror_mode": {
    "name": "ipython",
    "version": 3
   },
   "file_extension": ".py",
   "mimetype": "text/x-python",
   "name": "python",
   "nbconvert_exporter": "python",
   "pygments_lexer": "ipython3",
   "version": "3.9.12"
  },
  "orig_nbformat": 4
 },
 "nbformat": 4,
 "nbformat_minor": 2
}
